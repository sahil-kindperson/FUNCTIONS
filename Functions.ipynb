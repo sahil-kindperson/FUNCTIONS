{
  "nbformat": 4,
  "nbformat_minor": 0,
  "metadata": {
    "colab": {
      "provenance": []
    },
    "kernelspec": {
      "name": "python3",
      "display_name": "Python 3"
    },
    "language_info": {
      "name": "python"
    }
  },
  "cells": [
    {
      "cell_type": "code",
      "execution_count": null,
      "metadata": {
        "id": "miHYv-o3CN3I"
      },
      "outputs": [],
      "source": [
        "THEORICAL ASSIGNMENT"
      ]
    },
    {
      "cell_type": "code",
      "source": [
        "#1. What is the difference between a function and a method in Python?"
      ],
      "metadata": {
        "id": "Y1FIWaxeDsSp"
      },
      "execution_count": null,
      "outputs": []
    },
    {
      "cell_type": "markdown",
      "source": [
        "Function:\n",
        "*   A function is a block of code that performs a specific task and can be called by its name.\n",
        "*  Functions are defined using the def keyword and can be called independently of any object.\n",
        "*   Functions can accept parameters and return values.\n",
        "\n",
        "\n",
        "Method:\n",
        "\n",
        "*   A method is a function that is associated with an object. In other words, methods are functions that belong to an object or class.\n",
        "*   Methods are called on an instance of the class (or the class itself for class methods), and they typically operate on data within that object (via the self parameter in instance methods).\n",
        "\n",
        "*   Methods are defined inside a class and are typically called with the dot (.) notation.\n",
        "\n",
        "\n",
        "\n",
        "\n",
        "\n",
        "\n"
      ],
      "metadata": {
        "id": "NrasZEE2D8QV"
      }
    },
    {
      "cell_type": "code",
      "source": [
        "#2. Explain the concept of function arguments and parameters in Python."
      ],
      "metadata": {
        "id": "WySpVvidEwCV"
      },
      "execution_count": null,
      "outputs": []
    },
    {
      "cell_type": "markdown",
      "source": [
        "Parameters:\n",
        "\n",
        "*   Parameters are the variables that are defined in the function signature\n",
        "*   Parameters are used inside the function to perform operations on the data passed to them.\n",
        "\n",
        "\n",
        "arguments:\n",
        "\n",
        "*   Arguments are the actual values that are passed to the function when it is called. These values are assigned to the parameters in the function.\n",
        "*   Arguments can be constants, variables, or expressions.\n",
        "\n",
        "\n",
        "\n",
        "\n"
      ],
      "metadata": {
        "id": "O-dYy_-iE6Kw"
      }
    },
    {
      "cell_type": "code",
      "source": [
        "#3.What are the different ways to define and call a function in Python?"
      ],
      "metadata": {
        "id": "r9wYw9QmFtrd"
      },
      "execution_count": null,
      "outputs": []
    },
    {
      "cell_type": "markdown",
      "source": [
        "In Python, there are several ways to define and call a function. Below are the common methods:\n",
        "1. Function with Default Arguments\n",
        "2. Function with Variable-Length Arguments\n",
        "3. Lambda Functions\n",
        "4. Defining a Basic Function"
      ],
      "metadata": {
        "id": "_-JxuSsFJoB6"
      }
    },
    {
      "cell_type": "code",
      "source": [
        "#4. What is the purpose of the `return` statement in a Python function?"
      ],
      "metadata": {
        "id": "OjbeFBuSKTjl"
      },
      "execution_count": null,
      "outputs": []
    },
    {
      "cell_type": "markdown",
      "source": [
        "The return statement in a Python function serves several important purposes:\n",
        "\n",
        "1. Returning a Value from a Function\n",
        "2. Terminating Function Execution Early\n",
        "3. Returning Multiple Values (as a Tuple)\n",
        "and moreon."
      ],
      "metadata": {
        "id": "fo0bhcSYKkYK"
      }
    },
    {
      "cell_type": "code",
      "source": [
        "#5. What are iterators in Python and how do they differ from iterables?"
      ],
      "metadata": {
        "id": "dKxAPo78KsnR"
      },
      "execution_count": null,
      "outputs": []
    },
    {
      "cell_type": "markdown",
      "source": [
        "Iterators:\n",
        "\n",
        "An iterator is an object that represents a stream of data. It is an object that provides the __next__() method to retrieve the next item in the sequence, and it keeps track of its current position.\n",
        "\n",
        "* iterators and iterables:\n",
        "\n",
        "In Python, iterators and iterables are two closely related concepts used for looping and accessing data in a sequential manner. Understanding their differences is key to working with Python’s iteration protocols."
      ],
      "metadata": {
        "id": "RrsiZfgzKw4r"
      }
    },
    {
      "cell_type": "code",
      "source": [
        "#6. Explain the concept of generators in Python and how they are defined."
      ],
      "metadata": {
        "id": "rnSGRxR8LTYl"
      },
      "execution_count": null,
      "outputs": []
    },
    {
      "cell_type": "markdown",
      "source": [
        "A generator is a special type of iterator in Python that allows you to iterate over a sequence of values, but unlike lists, generators do not store the entire sequence in memory. Instead, they generate values one at a time on the fly, which makes them more memory efficient, especially for large datasets.\n",
        "\n",
        "Generators use the yield keyword to produce values. When a function contains a yield statement, it becomes a generator function, and calling it will return an iterator that can be used to iterate over the values produced by the yield expressions."
      ],
      "metadata": {
        "id": "ffaXCadjLu52"
      }
    },
    {
      "cell_type": "code",
      "source": [
        "#7. What are the advantages of using generators over regular functions?"
      ],
      "metadata": {
        "id": "nTzsEa2lL_nO"
      },
      "execution_count": null,
      "outputs": []
    },
    {
      "cell_type": "markdown",
      "source": [
        "1.Memory Efficiency: Generators do not store the entire sequence in memory and generate values on-demand.\n",
        "\n",
        "2.Lazy Evaluation: Values are computed only when required, which is more efficient for large or infinite sequences.\n",
        "\n",
        "3.Handling Infinite Sequences: Generators can represent infinite sequences without running out of memory.\n",
        "\n",
        "4.Control Over Execution Flow: Generators can pause and resume execution using yield, making them useful for complex workflows."
      ],
      "metadata": {
        "id": "VbYrtZkOMfnL"
      }
    },
    {
      "cell_type": "markdown",
      "source": [
        "\n",
        "*   List item\n",
        "*   List item\n",
        "\n"
      ],
      "metadata": {
        "id": "IAWHUzdyMDRQ"
      }
    },
    {
      "cell_type": "code",
      "source": [
        "#8. What is a lambda function in Python and when is it typically used?"
      ],
      "metadata": {
        "id": "46mFAPbYO47t"
      },
      "execution_count": null,
      "outputs": []
    },
    {
      "cell_type": "markdown",
      "source": [
        "\n",
        "A lambda function in Python is a small, anonymous function defined using the lambda keyword. It is a shorthand way to define functions that are typically used for short, simple operations that can be written in a single line."
      ],
      "metadata": {
        "id": "njq5SLRWO_YF"
      }
    },
    {
      "cell_type": "code",
      "source": [
        "#9. Explain the purpose and usage of the `map()` function in Python."
      ],
      "metadata": {
        "id": "RKOm927YPLKe"
      },
      "execution_count": null,
      "outputs": []
    },
    {
      "cell_type": "markdown",
      "source": [
        "The map() function in Python is a built-in function used to apply a given function to each item of an iterable (such as a list, tuple, or string) and returns a map object (which is an iterator). This is a powerful tool for performing operations on the items of an iterable in a functional programming style, and it helps avoid the need for explicit loops."
      ],
      "metadata": {
        "id": "9jG1ApWtPeuZ"
      }
    },
    {
      "cell_type": "code",
      "source": [
        "#10. What is the difference between `map()`, `reduce()`, and `filter()` functions in Python?"
      ],
      "metadata": {
        "id": "QC_a6hEzPg86"
      },
      "execution_count": null,
      "outputs": []
    },
    {
      "cell_type": "markdown",
      "source": [
        "The map(), reduce(), and filter() functions in Python are all higher-order functions, meaning they accept other functions as arguments and apply them to sequences or iterables. While they are all used to process collections of data, they have different purposes and behaviors.\n",
        "\n",
        "1. map() Function\n",
        "The map() function applies a given function to each item of an iterable (such as a list, tuple, etc.) and returns an iterator that yields the transformed values.\n",
        "\n",
        "2. reduce() Function\n",
        "The reduce() function, unlike map() and filter(), reduces a sequence of values into a single cumulative result by applying a binary function (a function that takes two arguments) cumulatively to the items of the iterable.\n",
        "\n",
        "3. filter() Function\n",
        "The filter() function is used to filter the elements of an iterable based on a condition defined by a function. It applies the function to each element of the iterable and returns only the elements where the function returns True."
      ],
      "metadata": {
        "id": "MBNrLHjsPmJl"
      }
    },
    {
      "cell_type": "code",
      "source": [
        "#11. Using pen & Paper write the internal mechanism for sum operation using  reduce function on this given list:[47,11,42,13];\n"
      ],
      "metadata": {
        "id": "sS7KdAdjR6XH"
      },
      "execution_count": null,
      "outputs": []
    },
    {
      "cell_type": "code",
      "source": [
        "\n",
        "Practical Questions\n"
      ],
      "metadata": {
        "id": "KV9TPbTSR_2j"
      },
      "execution_count": null,
      "outputs": []
    },
    {
      "cell_type": "code",
      "source": [
        "#1. Write a Python function that takes a list of numbers as input and returns the sum of all even numbers inthe list\n",
        "def sum_even_numbers(numbers):\n",
        "\n",
        "    total = 0\n",
        "\n",
        "\n",
        "    for num in numbers:\n",
        "\n",
        "        if num % 2 == 0:\n",
        "            total += num\n",
        "\n",
        "    return total\n",
        "\n",
        "numbers = [1, 2, 3, 4, 5, 6, 7, 8]\n",
        "result = sum_even_numbers(numbers)\n",
        "print(f\"The sum of even numbers is: {result}\")\n"
      ],
      "metadata": {
        "colab": {
          "base_uri": "https://localhost:8080/"
        },
        "id": "2OQhH4-SSMpY",
        "outputId": "7dff957f-677c-4ea5-deab-55a413b36d2c"
      },
      "execution_count": null,
      "outputs": [
        {
          "output_type": "stream",
          "name": "stdout",
          "text": [
            "The sum of even numbers is: 20\n"
          ]
        }
      ]
    },
    {
      "cell_type": "code",
      "source": [
        "#2. Create a Python function that accepts a string and returns the reverse of that string.\n",
        "def reverse_string(s):\n",
        "\n",
        "    return s[::-1]\n",
        "\n",
        "\n",
        "input_string = \"Hello, World!\"\n",
        "reversed_string = reverse_string(input_string)\n",
        "print(f\"Reversed string: {reversed_string}\")\n"
      ],
      "metadata": {
        "colab": {
          "base_uri": "https://localhost:8080/"
        },
        "id": "0HQMcDPbSsMH",
        "outputId": "bdf31ad2-5c97-4f63-beaf-b19df54de8e2"
      },
      "execution_count": null,
      "outputs": [
        {
          "output_type": "stream",
          "name": "stdout",
          "text": [
            "Reversed string: !dlroW ,olleH\n"
          ]
        }
      ]
    },
    {
      "cell_type": "code",
      "source": [
        "#3. Implement a Python function that takes a list of integers and returns a new list containing the squares of each number.\n",
        "def square_numbers(numbers):\n",
        "\n",
        "    return [num ** 2 for num in numbers]\n",
        "\n",
        "\n",
        "numbers = [1, 2, 3, 4, 5]\n",
        "squared_numbers = square_numbers(numbers)\n"
      ],
      "metadata": {
        "id": "LQ7KtfaDTES2"
      },
      "execution_count": null,
      "outputs": []
    },
    {
      "cell_type": "code",
      "source": [
        "#4. Write a Python function that checks if a given number is prime or not from 1 to 200.\n",
        "import math\n",
        "\n",
        "def is_prime(number):\n",
        "    if number <= 1:\n",
        "        return False\n",
        "    if number <= 3:\n",
        "        return True\n",
        "    if number % 2 == 0 or number % 3 == 0:\n",
        "        return False"
      ],
      "metadata": {
        "id": "fRxkkz_eTXnk"
      },
      "execution_count": null,
      "outputs": []
    },
    {
      "cell_type": "code",
      "source": [
        "#5. Create an iterator class in Python that generates the Fibonacci sequence up to a specified number of terms.\n",
        "class FibonacciIterator:\n",
        "    def __init__(self, n):\n",
        "        # n: number of terms in the Fibonacci sequence to generate\n",
        "        self.n = n\n",
        "        self.a, self.b = 0, 1  # Initial values for the Fibonacci sequence\n",
        "        self.count = 0  # Counter to keep track of how many numbers have been generated\n",
        "\n",
        "    def __iter__(self):\n",
        "        # The iterator object itself\n",
        "        return self\n",
        "\n",
        "    def __next__(self):\n",
        "        if self.count < self.n:\n",
        "            # Return the current Fibonacci number\n",
        "            current_value = self.a\n",
        "            # Update the Fibonacci sequence (a, b -> b, a+b)\n",
        "            self.a, self.b = self.b, self.a + self.b\n",
        "            self.count += 1\n",
        "            return current_value\n",
        "        else:\n",
        "            # Stop iteration when we've generated the required number of terms\n",
        "            raise StopIteration\n",
        "\n",
        "# Example usage:\n",
        "n_terms = 10  # Number of terms in the Fibonacci sequence\n",
        "fibonacci_sequence = FibonacciIterator(n_terms)\n",
        "\n",
        "# Iterate over the Fibonacci sequence\n",
        "for num in fibonacci_sequence:\n",
        "    print(num)\n"
      ],
      "metadata": {
        "colab": {
          "base_uri": "https://localhost:8080/"
        },
        "id": "SI1bgJ4KUICB",
        "outputId": "83bdd957-0b38-46e4-d669-d878a907279f"
      },
      "execution_count": null,
      "outputs": [
        {
          "output_type": "stream",
          "name": "stdout",
          "text": [
            "0\n",
            "1\n",
            "1\n",
            "2\n",
            "3\n",
            "5\n",
            "8\n",
            "13\n",
            "21\n",
            "34\n"
          ]
        }
      ]
    },
    {
      "cell_type": "code",
      "source": [
        "#6. Write a generator function in Python that yields the powers of 2 up to a given exponent.\n",
        "\n",
        "def powers_of_2(exponent):\n",
        "    for i in range(exponent + 1):\n",
        "        yield 2 ** i\n",
        "\n",
        "exponent = 5\n",
        "for power in powers_of_2(exponent):\n",
        "    print(power)"
      ],
      "metadata": {
        "colab": {
          "base_uri": "https://localhost:8080/"
        },
        "id": "C0KYv9JtVcqF",
        "outputId": "d255d734-0e7d-4a56-fd3a-a638df366d43"
      },
      "execution_count": null,
      "outputs": [
        {
          "output_type": "stream",
          "name": "stdout",
          "text": [
            "1\n",
            "2\n",
            "4\n",
            "8\n",
            "16\n",
            "32\n"
          ]
        }
      ]
    },
    {
      "cell_type": "code",
      "source": [
        "#7. Implement a generator function that reads a file line by line and yields each line as a string.\n",
        "def read_file_lines(file_path):\n",
        "    try:\n",
        "        with open(file_path, 'r') as file:\n",
        "            for line in file:\n",
        "                yield line.strip()\n",
        "    except FileNotFoundError:\n",
        "        print(f\"The file {file_path} does not exist.\")\n",
        "\n"
      ],
      "metadata": {
        "id": "yva0_1WeWu0V"
      },
      "execution_count": null,
      "outputs": []
    },
    {
      "cell_type": "code",
      "source": [
        "file_path + \"(the file)\""
      ],
      "metadata": {
        "colab": {
          "base_uri": "https://localhost:8080/",
          "height": 35
        },
        "id": "-0kR9SWTXU1z",
        "outputId": "a928a967-f412-4788-e59a-7c1aa3987298"
      },
      "execution_count": null,
      "outputs": [
        {
          "output_type": "execute_result",
          "data": {
            "text/plain": [
              "'example.txt(the file)'"
            ],
            "application/vnd.google.colaboratory.intrinsic+json": {
              "type": "string"
            }
          },
          "metadata": {},
          "execution_count": 25
        }
      ]
    },
    {
      "cell_type": "code",
      "source": [
        "#8. Use a lambda function in Python to sort a list of tuples based on the second element of each tuple.\n",
        "# List of tuples\n",
        "tuples_list = [(1, 4), (3, 2), (5, 1), (2, 3)]\n",
        "\n",
        "# Sort the list of tuples based on the second element of each tuple\n",
        "sorted_list = sorted(tuples_list, key=lambda x: x[1])\n",
        "\n",
        "# Print the sorted list\n",
        "print(sorted_list)\n"
      ],
      "metadata": {
        "colab": {
          "base_uri": "https://localhost:8080/"
        },
        "id": "6d6z-tEkXsxE",
        "outputId": "10b29fa9-82ec-4552-bc02-6a939586e281"
      },
      "execution_count": null,
      "outputs": [
        {
          "output_type": "stream",
          "name": "stdout",
          "text": [
            "[(5, 1), (3, 2), (2, 3), (1, 4)]\n"
          ]
        }
      ]
    },
    {
      "cell_type": "code",
      "source": [
        "#9. Write a Python program that uses `map()` to convert a list of temperatures from Celsius to Fahrenheit.\n",
        "# Function to convert Celsius to Fahrenheit\n",
        "def celsius_to_fahrenheit(celsius):\n",
        "    return (celsius * 9/5) + 32\n",
        "\n",
        "# List of temperatures in Celsius\n",
        "celsius_temperatures = [0, 20, 30, 40, 100]\n",
        "\n",
        "# Use map() to apply the conversion function to each element of the list\n",
        "fahrenheit_temperatures = list(map(celsius_to_fahrenheit, celsius_temperatures))\n",
        "\n",
        "# Print the list of temperatures in Fahrenheit\n",
        "print(fahrenheit_temperatures)\n"
      ],
      "metadata": {
        "colab": {
          "base_uri": "https://localhost:8080/"
        },
        "id": "Xobt7k-BYN0j",
        "outputId": "6f01b019-0f14-4933-896b-f721fad35353"
      },
      "execution_count": null,
      "outputs": [
        {
          "output_type": "stream",
          "name": "stdout",
          "text": [
            "[32.0, 68.0, 86.0, 104.0, 212.0]\n"
          ]
        }
      ]
    },
    {
      "cell_type": "code",
      "source": [
        "#10. Create a Python program that uses `filter()` to remove all the vowels from a given string.\n",
        "\n",
        "def is_not_vowel(char):\n",
        "    return char.lower() not in 'aeiou'\n",
        "\n",
        "input_string = \"Hello, World!\"\n",
        "\n",
        "\n",
        "filtered_string = ''.join(filter(is_not_vowel, input_string))\n",
        "\n",
        "print(filtered_string)\n"
      ],
      "metadata": {
        "colab": {
          "base_uri": "https://localhost:8080/"
        },
        "id": "3RK6IuFQYW11",
        "outputId": "76b84ab4-da80-4ddd-8fc7-56808d3ae779"
      },
      "execution_count": null,
      "outputs": [
        {
          "output_type": "stream",
          "name": "stdout",
          "text": [
            "Hll, Wrld!\n"
          ]
        }
      ]
    },
    {
      "cell_type": "code",
      "source": [
        "#11) Imagine an accounting routine used in a book shop. It works on a list with sublists, which look like this:Write a Python program, which returns a list with 2-tuples. Each tuple consists of the order number and theproduct of the price per item and the quantity. The product should be increased by 10,- € if the value of theorder is smaller than 100,00 €.Write a Python program using lambda and map.\n",
        "\n",
        "orders = [\n",
        "    (34587, \"Learning Python, Mark Lutz\", 4, 40.95),\n",
        "    (98762, \"Programming Python, Mark Lutz\", 5, 56.80),\n",
        "    (77226, \"Head First Python, Paul Barry\", 3, 32.95),\n",
        "    (88112, \"Einführung in Python3, Bernd Klein\", 3, 24.99)\n",
        "]\n",
        "\n",
        "result = list(map(lambda order: (order[0], order[2] * order[3] if order[2] * order[3] >= 100 else order[2] * order[3] + 10), orders))\n",
        "\n",
        "print(result)\n"
      ],
      "metadata": {
        "colab": {
          "base_uri": "https://localhost:8080/"
        },
        "id": "y3uYHcRzYqL-",
        "outputId": "a53e31b8-3feb-46a4-90cb-23d331f15094"
      },
      "execution_count": null,
      "outputs": [
        {
          "output_type": "stream",
          "name": "stdout",
          "text": [
            "[(34587, 163.8), (98762, 284.0), (77226, 108.85000000000001), (88112, 84.97)]\n"
          ]
        }
      ]
    },
    {
      "cell_type": "code",
      "source": [],
      "metadata": {
        "id": "UuQQWBH3Z_l2"
      },
      "execution_count": null,
      "outputs": []
    }
  ]
}